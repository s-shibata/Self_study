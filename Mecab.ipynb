{
  "nbformat": 4,
  "nbformat_minor": 0,
  "metadata": {
    "colab": {
      "name": "Mecab.ipynb",
      "version": "0.3.2",
      "provenance": [],
      "collapsed_sections": [],
      "include_colab_link": true
    },
    "kernelspec": {
      "name": "python3",
      "display_name": "Python 3"
    }
  },
  "cells": [
    {
      "cell_type": "markdown",
      "metadata": {
        "id": "view-in-github",
        "colab_type": "text"
      },
      "source": [
        "<a href=\"https://colab.research.google.com/github/s-shibata/Self_study/blob/master/Mecab.ipynb\" target=\"_parent\"><img src=\"https://colab.research.google.com/assets/colab-badge.svg\" alt=\"Open In Colab\"/></a>"
      ]
    },
    {
      "cell_type": "code",
      "metadata": {
        "id": "-5aRSVMcbVGG",
        "colab_type": "code",
        "outputId": "ab5a3636-36b6-4df1-fb03-86a3a206e609",
        "colab": {
          "base_uri": "https://localhost:8080/",
          "height": 34
        }
      },
      "source": [
        "!apt-get -q -y install sudo file mecab libmecab-dev mecab-ipadic-utf8 git curl python-mecab swig > /dev/null\n",
        "!pip install mecab-python3 > /dev/null"
      ],
      "execution_count": 8,
      "outputs": [
        {
          "output_type": "stream",
          "text": [
            "E: dpkg was interrupted, you must manually run 'dpkg --configure -a' to correct the problem. \n"
          ],
          "name": "stdout"
        }
      ]
    },
    {
      "cell_type": "code",
      "metadata": {
        "id": "zNLCO-81bZGm",
        "colab_type": "code",
        "outputId": "0ada5644-83e7-4dad-c63c-c55fb8aa32d8",
        "colab": {
          "base_uri": "https://localhost:8080/",
          "height": 51
        }
      },
      "source": [
        "import MeCab\n",
        "tagger = MeCab.Tagger(\"-Owakati\")\n",
        "sample = \"幸せとは星が降る夜と眩しい朝が繰り返すようなものじゃなく大切な人に降りかかった雨に傘をさせることだ\"\n",
        "print(tagger.parse(sample))"
      ],
      "execution_count": 9,
      "outputs": [
        {
          "output_type": "stream",
          "text": [
            "幸せ と は 星 が 降る 夜 と 眩しい 朝 が 繰り返す よう な もの じゃ なく 大切 な 人 に 降り かかっ た 雨 に 傘 を さ せる こと だ \n",
            "\n"
          ],
          "name": "stdout"
        }
      ]
    },
    {
      "cell_type": "code",
      "metadata": {
        "id": "I3RV3DzEdIoy",
        "colab_type": "code",
        "colab": {}
      },
      "source": [
        "#NEologd辞書\n",
        "!git clone --depth 1 https://github.com/neologd/mecab-ipadic-neologd.git\n",
        "!echo yes | mecab-ipadic-neologd/bin/install-mecab-ipadic-neologd -n"
      ],
      "execution_count": 0,
      "outputs": []
    },
    {
      "cell_type": "code",
      "metadata": {
        "id": "x7pYoxyZeqJB",
        "colab_type": "code",
        "colab": {}
      },
      "source": [
        "%%bash\n",
        "mecab\n",
        "メカブ神ってる"
      ],
      "execution_count": 0,
      "outputs": []
    },
    {
      "cell_type": "code",
      "metadata": {
        "id": "LsDSUhAEdW6y",
        "colab_type": "code",
        "outputId": "e5868df3-0d84-4361-b4a1-20700198c9ed",
        "colab": {
          "base_uri": "https://localhost:8080/",
          "height": 255
        }
      },
      "source": [
        "import MeCab\n",
        "mecab = MeCab.Tagger('-Ochasen')\n",
        "res = mecab.parse('吾輩わがはいは猫である。名前はまだ無い。')\n",
        "print(res)"
      ],
      "execution_count": 13,
      "outputs": [
        {
          "output_type": "stream",
          "text": [
            "吾輩\tワガハイ\t吾輩\t名詞-代名詞-一般\t\t\n",
            "わがはい\tワガハイ\tわがはい\t名詞-代名詞-一般\t\t\n",
            "は\tハ\tは\t助詞-係助詞\t\t\n",
            "猫\tネコ\t猫\t名詞-一般\t\t\n",
            "で\tデ\tだ\t助動詞\t特殊・ダ\t連用形\n",
            "ある\tアル\tある\t助動詞\t五段・ラ行アル\t基本形\n",
            "。\t。\t。\t記号-句点\t\t\n",
            "名前\tナマエ\t名前\t名詞-一般\t\t\n",
            "は\tハ\tは\t助詞-係助詞\t\t\n",
            "まだ\tマダ\tまだ\t副詞-助詞類接続\t\t\n",
            "無い\tナイ\t無い\t形容詞-自立\t形容詞・アウオ段\t基本形\n",
            "。\t。\t。\t記号-句点\t\t\n",
            "EOS\n",
            "\n"
          ],
          "name": "stdout"
        }
      ]
    },
    {
      "cell_type": "code",
      "metadata": {
        "id": "4FmBFRBWbanB",
        "colab_type": "code",
        "outputId": "ca94138d-00e1-4f67-9b9a-33f6919fc621",
        "colab": {
          "base_uri": "https://localhost:8080/",
          "height": 51
        }
      },
      "source": [
        "import MeCab\n",
        "text = \"新国立美術館に行きたい\"\n",
        "print(text)\n",
        "tagger = MeCab.Tagger('-Ochasen')\n",
        "tagger.parse(\"\")\n",
        "#node.surface/node.featureにアクセスできるようになる。\n",
        "node = tagger.parseToNode(text)\n",
        "res = mecab.parse(text)\n",
        "word_list = []\n",
        "\n",
        "while node:\n",
        "    word_feature = node.feature.split(',')\n",
        "    if word_feature[0] != u'BOS/EOS':\n",
        "        if word_feature[6] != None:\n",
        "            word_list.append(word_feature[6])\n",
        "    node = node.next\n",
        "print(word_list)"
      ],
      "execution_count": 14,
      "outputs": [
        {
          "output_type": "stream",
          "text": [
            "新国立美術館に行きたい\n",
            "['新', '国立', '美術館', 'に', '行く', 'たい']\n"
          ],
          "name": "stdout"
        }
      ]
    },
    {
      "cell_type": "code",
      "metadata": {
        "id": "skpcvwB6cTh5",
        "colab_type": "code",
        "outputId": "4355cd16-d5d7-476d-86ed-7f18a3afb176",
        "colab": {
          "base_uri": "https://localhost:8080/",
          "height": 153
        }
      },
      "source": [
        "import MeCab\n",
        "text = \"新国立美術館に行きたい\"\n",
        "#print(text)\n",
        "tagger = MeCab.Tagger('-Ochasen')\n",
        "tagger.parse(\"\")\n",
        "#node.surface/node.featureにアクセスできるようになる。\n",
        "node = tagger.parseToNode(text)\n",
        "res = mecab.parse(text)\n",
        "word_list = []\n",
        "\n",
        "while node:\n",
        "    #word_feature = node.feature.split(',')\n",
        "    if word_feature[0] != u'BOS/EOS':\n",
        "        if word_feature[6] != None:\n",
        "            word_list.append(word_feature[6])\n",
        "    node = node.next\n",
        "#print(word_list)\n",
        "print(res)"
      ],
      "execution_count": 17,
      "outputs": [
        {
          "output_type": "stream",
          "text": [
            "新\tシン\t新\t接頭詞-名詞接続\t\t\n",
            "国立\tコクリツ\t国立\t名詞-一般\t\t\n",
            "美術館\tビジュツカン\t美術館\t名詞-一般\t\t\n",
            "に\tニ\tに\t助詞-格助詞-一般\t\t\n",
            "行き\tイキ\t行く\t動詞-自立\t五段・カ行促音便\t連用形\n",
            "たい\tタイ\tたい\t助動詞\t特殊・タイ\t基本形\n",
            "EOS\n",
            "\n"
          ],
          "name": "stdout"
        }
      ]
    },
    {
      "cell_type": "code",
      "metadata": {
        "id": "a6tEH261haHC",
        "colab_type": "code",
        "outputId": "0193f3cb-7bf6-4e23-9e6a-bbf5be562d3f",
        "colab": {
          "base_uri": "https://localhost:8080/",
          "height": 54
        }
      },
      "source": [
        "import MeCab\n",
        "from google.colab import files\n",
        "tagger = MeCab.Tagger(\"-Owakati\")\n",
        "test_data = open(\"test.txt\", \"r\")\n",
        "lines = test_data.readlines()\n",
        "A = []\n",
        "for line in lines:\n",
        "    wakati = tagger.parse(line)\n",
        "    W = wakati.split(\" \")\n",
        "    for j in W:\n",
        "        A.append(j)\n",
        "print(A[1:-1])\n",
        "    \n",
        "test_data.close()"
      ],
      "execution_count": 16,
      "outputs": [
        {
          "output_type": "stream",
          "text": [
            "['幸せ', 'と', 'は', '星', 'が', '降る', 'よる', 'と', '眩しい', '朝', 'が', '繰り返す', 'よう', 'な', 'もの', 'じゃ', 'なく', '大切', 'な', '人', 'に', '降り', 'かかっ', 'た', '雨', 'に', '傘', 'を', 'さ', 'せる', 'こと', 'だ', '\\n', '何', 'の', '為', 'に', '生き', 'て', 'いく', 'の', 'か', '答え', 'なんて', 'なく', 'て', 'いい', 'よ']\n"
          ],
          "name": "stdout"
        }
      ]
    },
    {
      "cell_type": "code",
      "metadata": {
        "id": "qrI4Ijp5ifIi",
        "colab_type": "code",
        "colab": {
          "base_uri": "https://localhost:8080/",
          "height": 54
        },
        "outputId": "7170a89f-e147-4d0f-fd82-8a40876a5e2d"
      },
      "source": [
        "import MeCab\n",
        "from google.colab import files\n",
        "mecab = MeCab.Tagger('-Ochasen')\n",
        "res = mecab.parse('吾輩は猫である。名前はまだ無い。')\n",
        "B = []\n",
        "sepa = res.split(\"\\n\")\n",
        "for i in range(len(sepa)):\n",
        "    B.append([sepa[i]])\n",
        "print(B)"
      ],
      "execution_count": 108,
      "outputs": [
        {
          "output_type": "stream",
          "text": [
            "[['吾輩\\tワガハイ\\t吾輩\\t名詞-代名詞-一般\\t\\t'], ['は\\tハ\\tは\\t助詞-係助詞\\t\\t'], ['猫\\tネコ\\t猫\\t名詞-一般\\t\\t'], ['で\\tデ\\tだ\\t助動詞\\t特殊・ダ\\t連用形'], ['ある\\tアル\\tある\\t助動詞\\t五段・ラ行アル\\t基本形'], ['。\\t。\\t。\\t記号-句点\\t\\t'], ['名前\\tナマエ\\t名前\\t名詞-一般\\t\\t'], ['は\\tハ\\tは\\t助詞-係助詞\\t\\t'], ['まだ\\tマダ\\tまだ\\t副詞-助詞類接続\\t\\t'], ['無い\\tナイ\\t無い\\t形容詞-自立\\t形容詞・アウオ段\\t基本形'], ['。\\t。\\t。\\t記号-句点\\t\\t'], ['EOS'], ['']]\n"
          ],
          "name": "stdout"
        }
      ]
    }
  ]
}