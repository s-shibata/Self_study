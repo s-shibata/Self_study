{
  "nbformat": 4,
  "nbformat_minor": 0,
  "metadata": {
    "colab": {
      "name": "setting.ipynb",
      "version": "0.3.2",
      "provenance": [],
      "include_colab_link": true
    },
    "kernelspec": {
      "name": "python3",
      "display_name": "Python 3"
    }
  },
  "cells": [
    {
      "cell_type": "markdown",
      "metadata": {
        "id": "view-in-github",
        "colab_type": "text"
      },
      "source": [
        "<a href=\"https://colab.research.google.com/github/s-shibata/Self_study/blob/master/setting.ipynb\" target=\"_parent\"><img src=\"https://colab.research.google.com/assets/colab-badge.svg\" alt=\"Open In Colab\"/></a>"
      ]
    },
    {
      "cell_type": "code",
      "metadata": {
        "id": "7Py4fLUMQu6P",
        "colab_type": "code",
        "colab": {}
      },
      "source": [
        "!pip install -q PyGitHub\n",
        "\n",
        "from github import Github, GithubException\n",
        "import nbformat"
      ],
      "execution_count": 0,
      "outputs": []
    },
    {
      "cell_type": "code",
      "metadata": {
        "id": "xjJa-GRTQ-90",
        "colab_type": "code",
        "colab": {}
      },
      "source": [
        "access_token = '3ab61756c8b9752e77f4f3a529ebebc9d728f949'"
      ],
      "execution_count": 0,
      "outputs": []
    },
    {
      "cell_type": "code",
      "metadata": {
        "id": "H7GF3_iORQyw",
        "colab_type": "code",
        "colab": {}
      },
      "source": [
        "repository_name = 'Self_study' \n",
        "ipynb_file_name = 'test.ipynb'"
      ],
      "execution_count": 0,
      "outputs": []
    },
    {
      "cell_type": "code",
      "metadata": {
        "id": "dCjOz81YYhpX",
        "colab_type": "code",
        "colab": {
          "base_uri": "https://localhost:8080/",
          "height": 34
        },
        "outputId": "adf6adcb-09d2-4b1a-e0e6-6be0b64919e9"
      },
      "source": [
        "github = Github(access_token)\n",
        "user = github.get_user()\n",
        "\n",
        "try:\n",
        "  user.create_repo(repository_name)\n",
        "except GithubException:\n",
        "  print(f'{repository_name} already exists on this account.')"
      ],
      "execution_count": 22,
      "outputs": [
        {
          "output_type": "stream",
          "text": [
            "Self_study already exists on this account.\n"
          ],
          "name": "stdout"
        }
      ]
    },
    {
      "cell_type": "code",
      "metadata": {
        "id": "ESqo9JoJWWfI",
        "colab_type": "code",
        "colab": {}
      },
      "source": [
        "nb = nbformat.v4.new_notebook()\n",
        "\n",
        "title = '# setting'\n",
        "code = \"\"\"\n",
        "%matplotlib inline\n",
        "import matplotlib.pyplot as plt\n",
        "import numpy as np\n",
        "import pandas as pd\n",
        "\"\"\"\n",
        "\n",
        "nb[\"cells\"] = [\n",
        "    nbformat.v4.new_markdown_cell(title),\n",
        "    nbformat.v4.new_code_cell(code)\n",
        "]"
      ],
      "execution_count": 0,
      "outputs": []
    },
    {
      "cell_type": "code",
      "metadata": {
        "id": "oHKViw4FWjio",
        "colab_type": "code",
        "colab": {}
      },
      "source": [
        "repo = user.get_repo(repository_name)\n",
        "\n",
        "try:\n",
        "  repo.get_contents(ipynb_file_name)\n",
        "  raise(Exception(f'{ipynb_file_name} already exists in {repository_name}.'))\n",
        "except GithubException as e:\n",
        "  repo.create_file(ipynb_file_name, f'create {ipynb_file_name}', nbformat.writes(nb))"
      ],
      "execution_count": 0,
      "outputs": []
    },
    {
      "cell_type": "code",
      "metadata": {
        "id": "S5f4yJ6SY6PZ",
        "colab_type": "code",
        "colab": {}
      },
      "source": [
        ""
      ],
      "execution_count": 0,
      "outputs": []
    }
  ]
}