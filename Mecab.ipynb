{
  "nbformat": 4,
  "nbformat_minor": 0,
  "metadata": {
    "colab": {
      "name": "Mecab.ipynb",
      "version": "0.3.2",
      "provenance": [],
      "collapsed_sections": [],
      "include_colab_link": true
    },
    "kernelspec": {
      "name": "python3",
      "display_name": "Python 3"
    }
  },
  "cells": [
    {
      "cell_type": "markdown",
      "metadata": {
        "id": "view-in-github",
        "colab_type": "text"
      },
      "source": [
        "<a href=\"https://colab.research.google.com/github/s-shibata/Self_study/blob/master/Mecab.ipynb\" target=\"_parent\"><img src=\"https://colab.research.google.com/assets/colab-badge.svg\" alt=\"Open In Colab\"/></a>"
      ]
    },
    {
      "cell_type": "code",
      "metadata": {
        "id": "-5aRSVMcbVGG",
        "colab_type": "code",
        "colab": {}
      },
      "source": [
        "!apt-get -q -y install sudo file mecab libmecab-dev mecab-ipadic-utf8 git curl python-mecab swig > /dev/null\n",
        "!pip install mecab-python3 > /dev/null"
      ],
      "execution_count": 0,
      "outputs": []
    },
    {
      "cell_type": "code",
      "metadata": {
        "id": "zNLCO-81bZGm",
        "colab_type": "code",
        "colab": {}
      },
      "source": [
        "import MeCab\n",
        "tagger = MeCab.Tagger(\"-Owakati\")\n",
        "sample = \"幸せとは星が降る夜と眩しい朝が繰り返すようなものじゃなく大切な人に降りかかった雨に傘をさせることだ\"\n",
        "print(tagger.parse(sample))"
      ],
      "execution_count": 0,
      "outputs": []
    },
    {
      "cell_type": "code",
      "metadata": {
        "id": "I3RV3DzEdIoy",
        "colab_type": "code",
        "colab": {}
      },
      "source": [
        "#NEologd辞書\n",
        "!git clone --depth 1 https://github.com/neologd/mecab-ipadic-neologd.git\n",
        "!echo yes | mecab-ipadic-neologd/bin/install-mecab-ipadic-neologd -n"
      ],
      "execution_count": 0,
      "outputs": []
    },
    {
      "cell_type": "code",
      "metadata": {
        "id": "x7pYoxyZeqJB",
        "colab_type": "code",
        "colab": {}
      },
      "source": [
        "%%bash\n",
        "mecab\n",
        "メカブ神ってる"
      ],
      "execution_count": 0,
      "outputs": []
    },
    {
      "cell_type": "code",
      "metadata": {
        "id": "LsDSUhAEdW6y",
        "colab_type": "code",
        "colab": {}
      },
      "source": [
        "import MeCab\n",
        "mecab = MeCab.Tagger('-Ochasen')\n",
        "res = mecab.parse('吾輩わがはいは猫である。名前はまだ無い。')\n",
        "print(res)"
      ],
      "execution_count": 0,
      "outputs": []
    },
    {
      "cell_type": "code",
      "metadata": {
        "id": "4FmBFRBWbanB",
        "colab_type": "code",
        "colab": {}
      },
      "source": [
        "import MeCab\n",
        "text = \"新国立美術館に行きたい\"\n",
        "print(text)\n",
        "tagger = MeCab.Tagger('-Ochasen')\n",
        "tagger.parse(\"\")\n",
        "#node.surface/node.featureにアクセスできるようになる。\n",
        "node = tagger.parseToNode(text)\n",
        "res = mecab.parse(text)\n",
        "word_list = []\n",
        "\n",
        "while node:\n",
        "    word_feature = node.feature.split(',')\n",
        "    if word_feature[0] != u'BOS/EOS':\n",
        "        if word_feature[6] != None:\n",
        "            word_list.append(word_feature[6])\n",
        "    node = node.next\n",
        "print(word_list)"
      ],
      "execution_count": 0,
      "outputs": []
    },
    {
      "cell_type": "code",
      "metadata": {
        "id": "skpcvwB6cTh5",
        "colab_type": "code",
        "colab": {}
      },
      "source": [
        "import MeCab\n",
        "text = \"新国立美術館に行きたい\"\n",
        "#print(text)\n",
        "tagger = MeCab.Tagger('-Ochasen')\n",
        "tagger.parse(\"\")\n",
        "#node.surface/node.featureにアクセスできるようになる。\n",
        "node = tagger.parseToNode(text)\n",
        "res = mecab.parse(text)\n",
        "word_list = []\n",
        "\n",
        "while node:\n",
        "    #word_feature = node.feature.split(',')\n",
        "    if word_feature[0] != u'BOS/EOS':\n",
        "        if word_feature[6] != None:\n",
        "            word_list.append(word_feature[6])\n",
        "    node = node.next\n",
        "#print(word_list)\n",
        "print(res)"
      ],
      "execution_count": 0,
      "outputs": []
    },
    {
      "cell_type": "code",
      "metadata": {
        "id": "a6tEH261haHC",
        "colab_type": "code",
        "colab": {}
      },
      "source": [
        "import MeCab\n",
        "from google.colab import files\n",
        "tagger = MeCab.Tagger(\"-Owakati\")\n",
        "test_data = open(\"test.txt\", \"r\")\n",
        "lines = test_data.readlines()\n",
        "A = []\n",
        "for line in lines:\n",
        "    wakati = tagger.parse(line)\n",
        "    W = wakati.split(\" \")\n",
        "    for j in W:\n",
        "        A.append(j)\n",
        "print(A[1:-1])\n",
        "    \n",
        "test_data.close()"
      ],
      "execution_count": 0,
      "outputs": []
    },
    {
      "cell_type": "code",
      "metadata": {
        "id": "2PyF6wTzMGQ1",
        "colab_type": "code",
        "colab": {}
      },
      "source": [
        "import MeCab\n",
        "from google.colab import files\n",
        "mecab = MeCab.Tagger('-Ochasen')\n",
        "res = mecab.parse('吾輩は猫である。名前はまだ無い。')\n",
        "B = []\n",
        "sepa = res.split(\"\\n\")\n",
        "for i in range(len(sepa)):\n",
        "    B.append([sepa[i]])\n",
        "print(B)"
      ],
      "execution_count": 0,
      "outputs": []
    },
    {
      "cell_type": "code",
      "metadata": {
        "id": "qrI4Ijp5ifIi",
        "colab_type": "code",
        "outputId": "e920dfc7-0396-4431-a13e-70afacd7a04a",
        "colab": {
          "base_uri": "https://localhost:8080/",
          "height": 34
        }
      },
      "source": [
        "import MeCab\n",
        "from google.colab import files\n",
        "tagger = MeCab.Tagger('-Ochasen')\n",
        "test_data = open(\"test.txt\", \"r\")\n",
        "lines = test_data.readlines()\n",
        "C = []\n",
        "for line in lines:\n",
        "    w = tagger.parse(line)\n",
        "    Wa = w.split(\"\\n\")\n",
        "    for i in Wa:\n",
        "        C.append(i)\n",
        "B = []\n",
        "D = []\n",
        "#sepa = lines.split(\"\\n\")\n",
        "for i in range(len(C)):\n",
        "    B.append([C[i]])\n",
        "for i in range(len(B)):\n",
        "    d = B[i][0].split(\"\\t\")\n",
        "    #print(d)\n",
        "    D.append(d)\n",
        "    \n",
        "#print(D)\n",
        "E = []\n",
        "for i in range(len(D)-2):\n",
        "    if '名詞' in D[i][3]:\n",
        "        E.append(D[i][1])\n",
        "    #elif '動詞' in D[i][3]:\n",
        "    #    E.append(D[i][1])\n",
        "print(E)\n",
        "        #for '名詞' in D\n"
      ],
      "execution_count": 35,
      "outputs": [
        {
          "output_type": "stream",
          "text": [
            "['シアワセ', 'ホシ', 'ヨル', 'アサ', 'ヨウ', 'モノ', 'タイセツ', 'ヒト', 'アメ', 'カサ', 'コト']\n"
          ],
          "name": "stdout"
        }
      ]
    }
  ]
}