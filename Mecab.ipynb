{
  "nbformat": 4,
  "nbformat_minor": 0,
  "metadata": {
    "colab": {
      "name": "Mecab.ipynb",
      "version": "0.3.2",
      "provenance": [],
      "include_colab_link": true
    },
    "kernelspec": {
      "name": "python3",
      "display_name": "Python 3"
    }
  },
  "cells": [
    {
      "cell_type": "markdown",
      "metadata": {
        "id": "view-in-github",
        "colab_type": "text"
      },
      "source": [
        "<a href=\"https://colab.research.google.com/github/s-shibata/Self_study/blob/master/Mecab.ipynb\" target=\"_parent\"><img src=\"https://colab.research.google.com/assets/colab-badge.svg\" alt=\"Open In Colab\"/></a>"
      ]
    },
    {
      "cell_type": "code",
      "metadata": {
        "id": "-5aRSVMcbVGG",
        "colab_type": "code",
        "colab": {}
      },
      "source": [
        "!apt install aptitude\n",
        "!aptitude install mecab libmecab-dev mecab-ipadic-utf8 git make curl xz-utils file -y\n",
        "!pip install mecab-python3==0.7"
      ],
      "execution_count": 0,
      "outputs": []
    },
    {
      "cell_type": "code",
      "metadata": {
        "id": "zNLCO-81bZGm",
        "colab_type": "code",
        "outputId": "19607351-9abc-4991-97f0-f3fa8599e9ea",
        "colab": {
          "base_uri": "https://localhost:8080/",
          "height": 51
        }
      },
      "source": [
        "import MeCab\n",
        "tagger = MeCab.Tagger(\"-Owakati\")\n",
        "sample = \"幸せとは星が降る夜と眩しい朝が繰り返すようなものじゃなく大切な人に降りかかった雨に傘をさせることだ\"\n",
        "print(tagger.parse(sample))"
      ],
      "execution_count": 8,
      "outputs": [
        {
          "output_type": "stream",
          "text": [
            "幸せ と は 星 が 降る 夜 と 眩しい 朝 が 繰り返す よう な もの じゃ なく 大切 な 人 に 降り かかっ た 雨 に 傘 を さ せる こと だ \n",
            "\n"
          ],
          "name": "stdout"
        }
      ]
    },
    {
      "cell_type": "code",
      "metadata": {
        "id": "EaLTe4tLb70y",
        "colab_type": "code",
        "colab": {}
      },
      "source": [
        "%%bash\n",
        "mecab \n",
        "メカブって神ってる"
      ],
      "execution_count": 0,
      "outputs": []
    },
    {
      "cell_type": "code",
      "metadata": {
        "id": "I3RV3DzEdIoy",
        "colab_type": "code",
        "colab": {}
      },
      "source": [
        "#NEologd辞書\n",
        "!git clone --depth 1 https://github.com/neologd/mecab-ipadic-neologd.git\n",
        "!echo yes | mecab-ipadic-neologd/bin/install-mecab-ipadic-neologd -n"
      ],
      "execution_count": 0,
      "outputs": []
    },
    {
      "cell_type": "code",
      "metadata": {
        "id": "LsDSUhAEdW6y",
        "colab_type": "code",
        "outputId": "aa7b79b8-3a35-4559-f05a-c7d12f2d9359",
        "colab": {
          "base_uri": "https://localhost:8080/",
          "height": 595
        }
      },
      "source": [
        "import MeCab\n",
        "mecab = MeCab.Tagger('-Ochasen')\n",
        "res = mecab.parse('幸せとは星が降る夜と眩しい朝が繰り返すようなものじゃなく大切な人に降りかかった雨に傘をさせることだ')\n",
        "print(res)"
      ],
      "execution_count": 10,
      "outputs": [
        {
          "output_type": "stream",
          "text": [
            "幸せ\tシアワセ\t幸せ\t名詞-形容動詞語幹\t\t\n",
            "と\tト\tと\t助詞-格助詞-引用\t\t\n",
            "は\tハ\tは\t助詞-係助詞\t\t\n",
            "星\tホシ\t星\t名詞-一般\t\t\n",
            "が\tガ\tが\t助詞-格助詞-一般\t\t\n",
            "降る\tフル\t降る\t動詞-自立\t五段・ラ行\t基本形\n",
            "夜\tヨル\t夜\t名詞-副詞可能\t\t\n",
            "と\tト\tと\t助詞-格助詞-一般\t\t\n",
            "眩しい\tマブシイ\t眩しい\t形容詞-自立\t形容詞・イ段\t基本形\n",
            "朝\tアサ\t朝\t名詞-副詞可能\t\t\n",
            "が\tガ\tが\t助詞-格助詞-一般\t\t\n",
            "繰り返す\tクリカエス\t繰り返す\t動詞-自立\t五段・サ行\t基本形\n",
            "よう\tヨウ\tよう\t名詞-非自立-助動詞語幹\t\t\n",
            "な\tナ\tだ\t助動詞\t特殊・ダ\t体言接続\n",
            "もの\tモノ\tもの\t名詞-非自立-一般\t\t\n",
            "じゃ\tジャ\tじゃ\t助詞-副助詞\t\t\n",
            "なく\tナク\tない\t助動詞\t特殊・ナイ\t連用テ接続\n",
            "大切\tタイセツ\t大切\t名詞-形容動詞語幹\t\t\n",
            "な\tナ\tだ\t助動詞\t特殊・ダ\t体言接続\n",
            "人\tヒト\t人\t名詞-一般\t\t\n",
            "に\tニ\tに\t助詞-格助詞-一般\t\t\n",
            "降り\tフリ\t降る\t動詞-自立\t五段・ラ行\t連用形\n",
            "かかっ\tカカッ\tかかる\t動詞-非自立\t五段・ラ行\t連用タ接続\n",
            "た\tタ\tた\t助動詞\t特殊・タ\t基本形\n",
            "雨\tアメ\t雨\t名詞-一般\t\t\n",
            "に\tニ\tに\t助詞-格助詞-一般\t\t\n",
            "傘\tカサ\t傘\t名詞-一般\t\t\n",
            "を\tヲ\tを\t助詞-格助詞-一般\t\t\n",
            "さ\tサ\tする\t動詞-自立\tサ変・スル\t未然レル接続\n",
            "せる\tセル\tせる\t動詞-接尾\t一段\t基本形\n",
            "こと\tコト\tこと\t名詞-非自立-一般\t\t\n",
            "だ\tダ\tだ\t助動詞\t特殊・ダ\t基本形\n",
            "EOS\n",
            "\n"
          ],
          "name": "stdout"
        }
      ]
    },
    {
      "cell_type": "code",
      "metadata": {
        "id": "4FmBFRBWbanB",
        "colab_type": "code",
        "outputId": "7c292911-2698-4bcb-9edf-a901fc34deef",
        "colab": {
          "base_uri": "https://localhost:8080/",
          "height": 51
        }
      },
      "source": [
        "import MeCab\n",
        "text = \"幸せとは星が降る夜と眩しい朝が繰り返すようなものじゃなく大切な人に降りかかった雨に傘をさせることだ\"\n",
        "print(text)\n",
        "tagger = MeCab.Tagger('-Ochasen')\n",
        "tagger.parse(\"\")\n",
        "#node.surface/node.featureにアクセスできるようになる。\n",
        "node = tagger.parseToNode(text)\n",
        "res = mecab.parse(text)\n",
        "word_list = []\n",
        "\n",
        "while node:\n",
        "    word_feature = node.feature.split(',')\n",
        "    if word_feature[0] != u'BOS/EOS':\n",
        "        if word_feature[6] != None:\n",
        "            word_list.append(word_feature[6])\n",
        "    node = node.next\n",
        "print(word_list)"
      ],
      "execution_count": 11,
      "outputs": [
        {
          "output_type": "stream",
          "text": [
            "幸せとは星が降る夜と眩しい朝が繰り返すようなものじゃなく大切な人に降りかかった雨に傘をさせることだ\n",
            "['幸せ', 'と', 'は', '星', 'が', '降る', '夜', 'と', '眩しい', '朝', 'が', '繰り返す', 'よう', 'だ', 'もの', 'じゃ', 'ない', '大切', 'だ', '人', 'に', '降る', 'かかる', 'た', '雨', 'に', '傘', 'を', 'する', 'せる', 'こと', 'だ']\n"
          ],
          "name": "stdout"
        }
      ]
    }
  ]
}