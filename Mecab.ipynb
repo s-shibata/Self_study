{
  "nbformat": 4,
  "nbformat_minor": 0,
  "metadata": {
    "colab": {
      "name": "Mecab.ipynb",
      "version": "0.3.2",
      "provenance": [],
      "include_colab_link": true
    },
    "kernelspec": {
      "name": "python3",
      "display_name": "Python 3"
    }
  },
  "cells": [
    {
      "cell_type": "markdown",
      "metadata": {
        "id": "view-in-github",
        "colab_type": "text"
      },
      "source": [
        "<a href=\"https://colab.research.google.com/github/s-shibata/Self_study/blob/master/Mecab.ipynb\" target=\"_parent\"><img src=\"https://colab.research.google.com/assets/colab-badge.svg\" alt=\"Open In Colab\"/></a>"
      ]
    },
    {
      "cell_type": "code",
      "metadata": {
        "id": "-5aRSVMcbVGG",
        "colab_type": "code",
        "colab": {}
      },
      "source": [
        "!apt install aptitude\n",
        "!aptitude install mecab libmecab-dev mecab-ipadic-utf8 git make curl xz-utils file -y\n",
        "!pip install mecab-python3==0.7"
      ],
      "execution_count": 0,
      "outputs": []
    },
    {
      "cell_type": "code",
      "metadata": {
        "id": "zNLCO-81bZGm",
        "colab_type": "code",
        "outputId": "5010bce0-5c38-4bfe-cc5a-e91cdd07bdac",
        "colab": {
          "base_uri": "https://localhost:8080/",
          "height": 51
        }
      },
      "source": [
        "import MeCab\n",
        "tagger = MeCab.Tagger(\"-Owakati\")\n",
        "sample = \"幸せとは星が降る夜と眩しい朝が繰り返すようなものじゃなく大切な人に降りかかった雨に傘をさせることだ\"\n",
        "print(tagger.parse(sample))"
      ],
      "execution_count": 7,
      "outputs": [
        {
          "output_type": "stream",
          "text": [
            "幸せ と は 星 が 降る 夜 と 眩しい 朝 が 繰り返す よう な もの じゃ なく 大切 な 人 に 降り かかっ た 雨 に 傘 を さ せる こと だ \n",
            "\n"
          ],
          "name": "stdout"
        }
      ]
    },
    {
      "cell_type": "code",
      "metadata": {
        "id": "EaLTe4tLb70y",
        "colab_type": "code",
        "outputId": "60578770-66cf-4f40-dba9-f24a98be2a2f",
        "colab": {
          "base_uri": "https://localhost:8080/",
          "height": 119
        }
      },
      "source": [
        "%%bash\n",
        "mecab \n",
        "メカブって神ってる"
      ],
      "execution_count": 8,
      "outputs": [
        {
          "output_type": "stream",
          "text": [
            "メカブ\t名詞,固有名詞,組織,*,*,*,*\n",
            "って\t助詞,格助詞,連語,*,*,*,って,ッテ,ッテ\n",
            "神\t名詞,一般,*,*,*,*,神,カミ,カミ\n",
            "って\t助詞,格助詞,連語,*,*,*,って,ッテ,ッテ\n",
            "る\t助動詞,*,*,*,文語・ル,基本形,る,ル,ル\n",
            "EOS\n"
          ],
          "name": "stdout"
        }
      ]
    },
    {
      "cell_type": "code",
      "metadata": {
        "id": "I3RV3DzEdIoy",
        "colab_type": "code",
        "colab": {}
      },
      "source": [
        "#NEologd辞書\n",
        "!git clone --depth 1 https://github.com/neologd/mecab-ipadic-neologd.git\n",
        "!echo yes | mecab-ipadic-neologd/bin/install-mecab-ipadic-neologd -n"
      ],
      "execution_count": 0,
      "outputs": []
    },
    {
      "cell_type": "code",
      "metadata": {
        "id": "x7pYoxyZeqJB",
        "colab_type": "code",
        "outputId": "b822b7ee-e1bd-467c-945b-061523354c0b",
        "colab": {
          "base_uri": "https://localhost:8080/",
          "height": 102
        }
      },
      "source": [
        "%%bash\n",
        "mecab\n",
        "メカブ神ってる"
      ],
      "execution_count": 11,
      "outputs": [
        {
          "output_type": "stream",
          "text": [
            "メカブ\t名詞,一般,*,*,*,*,*\n",
            "神\t名詞,接尾,一般,*,*,*,神,シン,シン\n",
            "って\t助詞,格助詞,連語,*,*,*,って,ッテ,ッテ\n",
            "る\t助動詞,*,*,*,文語・ル,基本形,る,ル,ル\n",
            "EOS\n"
          ],
          "name": "stdout"
        }
      ]
    },
    {
      "cell_type": "code",
      "metadata": {
        "id": "LsDSUhAEdW6y",
        "colab_type": "code",
        "outputId": "d198cdbe-a82b-416e-cde1-09a7fbf04ae2",
        "colab": {
          "base_uri": "https://localhost:8080/",
          "height": 255
        }
      },
      "source": [
        "import MeCab\n",
        "mecab = MeCab.Tagger('-Ochasen')\n",
        "res = mecab.parse('吾輩わがはいは猫である。名前はまだ無い。')\n",
        "print(res)"
      ],
      "execution_count": 12,
      "outputs": [
        {
          "output_type": "stream",
          "text": [
            "吾輩\tワガハイ\t吾輩\t名詞-代名詞-一般\t\t\n",
            "わがはい\tワガハイ\tわがはい\t名詞-代名詞-一般\t\t\n",
            "は\tハ\tは\t助詞-係助詞\t\t\n",
            "猫\tネコ\t猫\t名詞-一般\t\t\n",
            "で\tデ\tだ\t助動詞\t特殊・ダ\t連用形\n",
            "ある\tアル\tある\t助動詞\t五段・ラ行アル\t基本形\n",
            "。\t。\t。\t記号-句点\t\t\n",
            "名前\tナマエ\t名前\t名詞-一般\t\t\n",
            "は\tハ\tは\t助詞-係助詞\t\t\n",
            "まだ\tマダ\tまだ\t副詞-助詞類接続\t\t\n",
            "無い\tナイ\t無い\t形容詞-自立\t形容詞・アウオ段\t基本形\n",
            "。\t。\t。\t記号-句点\t\t\n",
            "EOS\n",
            "\n"
          ],
          "name": "stdout"
        }
      ]
    },
    {
      "cell_type": "code",
      "metadata": {
        "id": "4FmBFRBWbanB",
        "colab_type": "code",
        "outputId": "67ebf8d6-9559-4522-a8d3-3bfcc6467a9f",
        "colab": {
          "base_uri": "https://localhost:8080/",
          "height": 51
        }
      },
      "source": [
        "import MeCab\n",
        "text = \"新国立美術館に行きたい\"\n",
        "print(text)\n",
        "tagger = MeCab.Tagger('-Ochasen')\n",
        "tagger.parse(\"\")\n",
        "#node.surface/node.featureにアクセスできるようになる。\n",
        "node = tagger.parseToNode(text)\n",
        "res = mecab.parse(text)\n",
        "word_list = []\n",
        "\n",
        "while node:\n",
        "    word_feature = node.feature.split(',')\n",
        "    if word_feature[0] != u'BOS/EOS':\n",
        "        if word_feature[6] != None:\n",
        "            word_list.append(word_feature[6])\n",
        "    node = node.next\n",
        "print(word_list)"
      ],
      "execution_count": 13,
      "outputs": [
        {
          "output_type": "stream",
          "text": [
            "新国立美術館に行きたい\n",
            "['新', '国立', '美術館', 'に', '行く', 'たい']\n"
          ],
          "name": "stdout"
        }
      ]
    },
    {
      "cell_type": "code",
      "metadata": {
        "id": "skpcvwB6cTh5",
        "colab_type": "code",
        "outputId": "a4c0a510-3163-43fe-e000-6522ae5a786b",
        "colab": {
          "base_uri": "https://localhost:8080/",
          "height": 187
        }
      },
      "source": [
        "import MeCab\n",
        "text = \"新国立美術館に行きたい\"\n",
        "print(text)\n",
        "tagger = MeCab.Tagger('-Ochasen')\n",
        "tagger.parse(\"\")\n",
        "#node.surface/node.featureにアクセスできるようになる。\n",
        "node = tagger.parseToNode(text)\n",
        "res = mecab.parse(text)\n",
        "word_list = []\n",
        "\n",
        "while node:\n",
        "    word_feature = node.feature.split(',')\n",
        "    if word_feature[0] != u'BOS/EOS':\n",
        "        if word_feature[6] != None:\n",
        "            word_list.append(word_feature[6])\n",
        "    node = node.next\n",
        "print(word_list)\n",
        "print(res)"
      ],
      "execution_count": 14,
      "outputs": [
        {
          "output_type": "stream",
          "text": [
            "新国立美術館に行きたい\n",
            "['新', '国立', '美術館', 'に', '行く', 'たい']\n",
            "新\tシン\t新\t接頭詞-名詞接続\t\t\n",
            "国立\tコクリツ\t国立\t名詞-一般\t\t\n",
            "美術館\tビジュツカン\t美術館\t名詞-一般\t\t\n",
            "に\tニ\tに\t助詞-格助詞-一般\t\t\n",
            "行き\tイキ\t行く\t動詞-自立\t五段・カ行促音便\t連用形\n",
            "たい\tタイ\tたい\t助動詞\t特殊・タイ\t基本形\n",
            "EOS\n",
            "\n"
          ],
          "name": "stdout"
        }
      ]
    },
    {
      "cell_type": "code",
      "metadata": {
        "id": "a6tEH261haHC",
        "colab_type": "code",
        "colab": {
          "base_uri": "https://localhost:8080/",
          "height": 51
        },
        "outputId": "147d7c04-8563-446a-8a3e-4a77a8009aca"
      },
      "source": [
        "import MeCab\n",
        "tagger = MeCab.Tagger(\"-Owakati\")\n",
        "sample = \"幸せとは星が降る夜と眩しい朝が繰り返すようなものじゃなく大切な人に降りかかった雨に傘をさせることだ\"\n",
        "wakati = tagger.parse(sample)\n",
        "W = wakati.split(\" \")\n",
        "print(W[:-1])\n",
        "print(len(W[:-1]))"
      ],
      "execution_count": 24,
      "outputs": [
        {
          "output_type": "stream",
          "text": [
            "['幸せ', 'と', 'は', '星', 'が', '降る', '夜', 'と', '眩しい', '朝', 'が', '繰り返す', 'よう', 'な', 'もの', 'じゃ', 'なく', '大切', 'な', '人', 'に', '降り', 'かかっ', 'た', '雨', 'に', '傘', 'を', 'さ', 'せる', 'こと', 'だ']\n",
            "32\n"
          ],
          "name": "stdout"
        }
      ]
    }
  ]
}