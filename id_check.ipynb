{
  "nbformat": 4,
  "nbformat_minor": 0,
  "metadata": {
    "colab": {
      "name": "id_check.ipynb",
      "version": "0.3.2",
      "provenance": [],
      "include_colab_link": true
    },
    "kernelspec": {
      "name": "python3",
      "display_name": "Python 3"
    }
  },
  "cells": [
    {
      "cell_type": "markdown",
      "metadata": {
        "id": "view-in-github",
        "colab_type": "text"
      },
      "source": [
        "<a href=\"https://colab.research.google.com/github/s-shibata/Self_study/blob/master/id_check.ipynb\" target=\"_parent\"><img src=\"https://colab.research.google.com/assets/colab-badge.svg\" alt=\"Open In Colab\"/></a>"
      ]
    },
    {
      "cell_type": "code",
      "metadata": {
        "id": "THvT9FTE04o5",
        "colab_type": "code",
        "colab": {}
      },
      "source": [
        "# PyDriveの準備\n",
        "!pip install -U -q PyDrive\n",
        "\n",
        "from pydrive.auth import GoogleAuth\n",
        "from pydrive.drive import GoogleDrive\n",
        "from google.colab import auth\n",
        "from oauth2client.client import GoogleCredentials\n",
        "\n",
        "auth.authenticate_user()\n",
        "gauth = GoogleAuth()\n",
        "gauth.credentials = GoogleCredentials.get_application_default()\n",
        "drive = GoogleDrive(gauth)"
      ],
      "execution_count": 0,
      "outputs": []
    },
    {
      "cell_type": "code",
      "metadata": {
        "id": "DppYEFGq0tvE",
        "colab_type": "code",
        "colab": {
          "base_uri": "https://localhost:8080/",
          "height": 187
        },
        "outputId": "fb42a207-d6e7-4393-c3f5-e1fc10500007"
      },
      "source": [
        "# ブラウザでフォルダを表示するとURLのfolders以降がフォルダのIDになっている\n",
        "# https://drive.google.com/drive/folders/<ID>\n",
        "dir_id = \"1uzA0pGWWfEwVyTQUMzHPTwQFBzjGDPZh\"\n",
        "\n",
        "# フォルダ内にあるファイル名とファイルIDを表示する\n",
        "file_list = drive.ListFile({'q': \"'%s' in parents and trashed=false\" % dir_id}).GetList()\n",
        "for f in file_list:\n",
        "  print(\"name: \" + f[\"title\"] + \", id: \" + f[\"id\"])"
      ],
      "execution_count": 9,
      "outputs": [
        {
          "output_type": "stream",
          "text": [
            "name: id_check.ipynb, id: 1E2nIil0-cG30lxJrxKl-x4jJm8o0CLUL\n",
            "name: Mecab.ipynb, id: 1eFzsjlo9rkMDXPeWCigy2gtCV8AsH_10\n",
            "name: setting.ipynb, id: 1efeJPA5qCgFWOuEuGMiMnbkkP3-4lxz2\n",
            "name: Chainer_Numpy.ipynb, id: 1tAg4WO284rRgZWhfzW46YrtjVFyoJlhC\n",
            "name: chainer.ipynb, id: 1PByQ3DZK26fPk0fwzJKxkEVnpp11zpVM\n",
            "name: Chainer Tutorials : 01_Welcome_to_Chainer_Tutorial_ja.ipynb のコピー, id: 1-0pdU7buS-G9lPExvejo3dY_8Nz-Dlcb\n",
            "name: Numpy, id: 1R605VoN394FFRIAlMu1hC5nh9ASv7eCl\n",
            "name: Introduction to Chainer のコピー, id: 1-ouGr7sgP_ykOMyJ8XGBWMYQkVh3X38h\n",
            "name: Untitled0.ipynb, id: 1FekBkE9eoOOOUF0kLJ5q0NQPdnNZBBdE\n",
            "name: trunk1.ipynb, id: 1lKdgSbzkzmKzojXDOKu2h_902aSlkuKb\n"
          ],
          "name": "stdout"
        }
      ]
    },
    {
      "cell_type": "code",
      "metadata": {
        "id": "vJToVz4H0zMe",
        "colab_type": "code",
        "colab": {}
      },
      "source": [
        ""
      ],
      "execution_count": 0,
      "outputs": []
    }
  ]
}