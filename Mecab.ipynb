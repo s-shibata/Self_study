{
  "nbformat": 4,
  "nbformat_minor": 0,
  "metadata": {
    "colab": {
      "name": "Mecab.ipynb",
      "version": "0.3.2",
      "provenance": [],
      "collapsed_sections": [],
      "toc_visible": true,
      "include_colab_link": true
    },
    "kernelspec": {
      "name": "python3",
      "display_name": "Python 3"
    }
  },
  "cells": [
    {
      "cell_type": "markdown",
      "metadata": {
        "id": "view-in-github",
        "colab_type": "text"
      },
      "source": [
        "<a href=\"https://colab.research.google.com/github/s-shibata/Self_study/blob/master/Mecab.ipynb\" target=\"_parent\"><img src=\"https://colab.research.google.com/assets/colab-badge.svg\" alt=\"Open In Colab\"/></a>"
      ]
    },
    {
      "cell_type": "code",
      "metadata": {
        "id": "-5aRSVMcbVGG",
        "colab_type": "code",
        "colab": {}
      },
      "source": [
        "!apt-get -q -y install sudo file mecab libmecab-dev mecab-ipadic-utf8 git curl python-mecab swig > /dev/null\n",
        "!pip install mecab-python3 > /dev/null"
      ],
      "execution_count": 0,
      "outputs": []
    },
    {
      "cell_type": "code",
      "metadata": {
        "id": "VuwNCe3g8HFH",
        "colab_type": "code",
        "colab": {}
      },
      "source": [
        "import MeCab\n",
        "from google.colab import files\n",
        "tagger = MeCab.Tagger('-Ochasen')\n",
        "test_data = open(\"test.txt\", \"r\")\n",
        "lines = test_data.readlines()"
      ],
      "execution_count": 0,
      "outputs": []
    },
    {
      "cell_type": "code",
      "metadata": {
        "id": "Pm927a3Q-XQV",
        "colab_type": "code",
        "colab": {}
      },
      "source": [
        "C = []\n",
        "for line in lines:\n",
        "    w = tagger.parse(line)\n",
        "    Wa = w.split(\"\\n\")\n",
        "    for i in Wa:\n",
        "        C.append(i)"
      ],
      "execution_count": 0,
      "outputs": []
    },
    {
      "cell_type": "code",
      "metadata": {
        "id": "07sBmOya-gd5",
        "colab_type": "code",
        "colab": {}
      },
      "source": [
        "B = []\n",
        "D = []\n",
        "#sepa = lines.split(\"\\n\")\n",
        "for i in range(len(C)):\n",
        "    B.append([C[i]])\n",
        "for i in range(len(B)):\n",
        "    d = B[i][0].split(\"\\t\")\n",
        "    #print(d)\n",
        "    D.append(d)\n",
        "#print(D)"
      ],
      "execution_count": 0,
      "outputs": []
    },
    {
      "cell_type": "code",
      "metadata": {
        "id": "QWLM-qTN-ejm",
        "colab_type": "code",
        "outputId": "05176e09-5d70-4fb7-fb2c-64f3693c7b04",
        "colab": {
          "base_uri": "https://localhost:8080/",
          "height": 70
        }
      },
      "source": [
        "E = []\n",
        "for i in range(len(D)-2):\n",
        "    if '名詞' in D[i][3] and '非自立' not in D[i][3] and len(D[i][1]) > 1:\n",
        "        E.append(D[i][1])\n",
        "print(E)\n",
        "print(len(E))"
      ],
      "execution_count": 12,
      "outputs": [
        {
          "output_type": "stream",
          "text": [
            "['シアワセ', 'ホシ', 'ヨル', 'アサ', 'タイセツ', 'ヒト', 'アメ', 'カサ', 'ナニ', 'コタエ', 'ヒト', 'ヒツヨウ', 'セノビ', 'ボク', 'キモチ', 'シアワセ', 'ホシ', 'ヨル', 'アサ', 'タイセツ', 'ヒト', 'アメ', 'カサ', 'マバタキ', 'ルイ', 'ソバ', 'ユメ', 'ヒト', 'ミチ', 'セイカイ', 'ヒト', 'ダレカ', 'ヒト', 'ジブン', 'ヒト', 'ダレ', 'キョウ', 'ボク', 'ヒツヨウ', 'シアワセ', 'ホシ', 'ヨル', 'アサ', 'タイセツ', 'ヒト', 'アメ', 'カサ', 'ボク', 'ソレ', 'バショ', 'シアワセ', 'ホシ', 'ヨル', 'アサ', 'タイセツ', 'ヒト', 'アメ', 'カサ', 'ボク', 'ソバ', 'キミ']\n",
            "61\n"
          ],
          "name": "stdout"
        }
      ]
    },
    {
      "cell_type": "markdown",
      "metadata": {
        "id": "KJ-izyO08KEd",
        "colab_type": "text"
      },
      "source": [
        "## 以下いろいろ試したソースコード\n"
      ]
    },
    {
      "cell_type": "code",
      "metadata": {
        "id": "zNLCO-81bZGm",
        "colab_type": "code",
        "colab": {}
      },
      "source": [
        "import MeCab\n",
        "tagger = MeCab.Tagger(\"-Owakati\")\n",
        "sample = \"幸せとは星が降る夜と眩しい朝が繰り返すようなものじゃなく大切な人に降りかかった雨に傘をさせることだ\"\n",
        "print(tagger.parse(sample))"
      ],
      "execution_count": 0,
      "outputs": []
    },
    {
      "cell_type": "code",
      "metadata": {
        "id": "I3RV3DzEdIoy",
        "colab_type": "code",
        "colab": {}
      },
      "source": [
        "#NEologd辞書\n",
        "!git clone --depth 1 https://github.com/neologd/mecab-ipadic-neologd.git\n",
        "!echo yes | mecab-ipadic-neologd/bin/install-mecab-ipadic-neologd -n"
      ],
      "execution_count": 0,
      "outputs": []
    },
    {
      "cell_type": "code",
      "metadata": {
        "id": "x7pYoxyZeqJB",
        "colab_type": "code",
        "colab": {}
      },
      "source": [
        "%%bash\n",
        "mecab\n",
        "メカブ神ってる"
      ],
      "execution_count": 0,
      "outputs": []
    },
    {
      "cell_type": "code",
      "metadata": {
        "id": "LsDSUhAEdW6y",
        "colab_type": "code",
        "outputId": "199f036a-1edc-44e3-f8b1-3cf2aa5ca5be",
        "colab": {
          "base_uri": "https://localhost:8080/",
          "height": 252
        }
      },
      "source": [
        "import MeCab\n",
        "mecab = MeCab.Tagger('-Ochasen')\n",
        "res = mecab.parse('吾輩わがはいは猫である。名前はまだ無い。')\n",
        "print(res)"
      ],
      "execution_count": 0,
      "outputs": [
        {
          "output_type": "stream",
          "text": [
            "吾輩\tワガハイ\t吾輩\t名詞-代名詞-一般\t\t\n",
            "わがはい\tワガハイ\tわがはい\t名詞-代名詞-一般\t\t\n",
            "は\tハ\tは\t助詞-係助詞\t\t\n",
            "猫\tネコ\t猫\t名詞-一般\t\t\n",
            "で\tデ\tだ\t助動詞\t特殊・ダ\t連用形\n",
            "ある\tアル\tある\t助動詞\t五段・ラ行アル\t基本形\n",
            "。\t。\t。\t記号-句点\t\t\n",
            "名前\tナマエ\t名前\t名詞-一般\t\t\n",
            "は\tハ\tは\t助詞-係助詞\t\t\n",
            "まだ\tマダ\tまだ\t副詞-助詞類接続\t\t\n",
            "無い\tナイ\t無い\t形容詞-自立\t形容詞・アウオ段\t基本形\n",
            "。\t。\t。\t記号-句点\t\t\n",
            "EOS\n",
            "\n"
          ],
          "name": "stdout"
        }
      ]
    },
    {
      "cell_type": "code",
      "metadata": {
        "id": "4FmBFRBWbanB",
        "colab_type": "code",
        "outputId": "cb54e1c5-86be-4778-87ee-94b90157e671",
        "colab": {
          "base_uri": "https://localhost:8080/",
          "height": 50
        }
      },
      "source": [
        "import MeCab\n",
        "text = \"新国立美術館に行きたい\"\n",
        "print(text)\n",
        "tagger = MeCab.Tagger('-Ochasen')\n",
        "tagger.parse(\"\")\n",
        "#node.surface/node.featureにアクセスできるようになる。\n",
        "node = tagger.parseToNode(text)\n",
        "res = mecab.parse(text)\n",
        "word_list = []\n",
        "\n",
        "while node:\n",
        "    word_feature = node.feature.split(',')\n",
        "    if word_feature[0] != u'BOS/EOS':\n",
        "        if word_feature[6] != None:\n",
        "            word_list.append(word_feature[6])\n",
        "    node = node.next\n",
        "print(word_list)"
      ],
      "execution_count": 0,
      "outputs": [
        {
          "output_type": "stream",
          "text": [
            "新国立美術館に行きたい\n",
            "['新', '国立', '美術館', 'に', '行く', 'たい']\n"
          ],
          "name": "stdout"
        }
      ]
    },
    {
      "cell_type": "code",
      "metadata": {
        "id": "skpcvwB6cTh5",
        "colab_type": "code",
        "outputId": "62988551-bef1-47e7-d961-9ac1cd821c51",
        "colab": {
          "base_uri": "https://localhost:8080/",
          "height": 151
        }
      },
      "source": [
        "import MeCab\n",
        "text = \"新国立美術館に行きたい\"\n",
        "#print(text)\n",
        "tagger = MeCab.Tagger('-Ochasen')\n",
        "tagger.parse(\"\")\n",
        "#node.surface/node.featureにアクセスできるようになる。\n",
        "node = tagger.parseToNode(text)\n",
        "res = mecab.parse(text)\n",
        "word_list = []\n",
        "\n",
        "while node:\n",
        "    word_feature = node.feature.split(',')\n",
        "    if word_feature[0] != u'BOS/EOS':\n",
        "        if word_feature[6] != None:\n",
        "            word_list.append(word_feature[6])\n",
        "    node = node.next\n",
        "#print(word_list)\n",
        "print(res)"
      ],
      "execution_count": 0,
      "outputs": [
        {
          "output_type": "stream",
          "text": [
            "新\tシン\t新\t接頭詞-名詞接続\t\t\n",
            "国立\tコクリツ\t国立\t名詞-一般\t\t\n",
            "美術館\tビジュツカン\t美術館\t名詞-一般\t\t\n",
            "に\tニ\tに\t助詞-格助詞-一般\t\t\n",
            "行き\tイキ\t行く\t動詞-自立\t五段・カ行促音便\t連用形\n",
            "たい\tタイ\tたい\t助動詞\t特殊・タイ\t基本形\n",
            "EOS\n",
            "\n"
          ],
          "name": "stdout"
        }
      ]
    },
    {
      "cell_type": "code",
      "metadata": {
        "id": "a6tEH261haHC",
        "colab_type": "code",
        "outputId": "0682c4b6-2795-4155-8ead-4143010e7dd6",
        "colab": {
          "base_uri": "https://localhost:8080/",
          "height": 54
        }
      },
      "source": [
        "import MeCab\n",
        "from google.colab import files\n",
        "tagger = MeCab.Tagger(\"-Owakati\")\n",
        "test_data = open(\"test.txt\", \"r\")\n",
        "lines = test_data.readlines()\n",
        "A = []\n",
        "for line in lines:\n",
        "    wakati = tagger.parse(line)\n",
        "    W = wakati.split(\" \")\n",
        "    for j in W:\n",
        "        A.append(j)\n",
        "print(A[1:-1])\n",
        "    \n",
        "test_data.close()"
      ],
      "execution_count": 0,
      "outputs": [
        {
          "output_type": "stream",
          "text": [
            "['と', 'は', '星', 'が', '降る', '夜', 'と', '眩しい', '朝', 'が', '繰り返す', 'よう', 'な', 'もの', 'じゃ', 'なく', '大切', 'な', '人', 'に', '降り', 'かかっ', 'た', '雨', 'に', '傘', 'を', 'さ', 'せる', 'こと', 'だ']\n"
          ],
          "name": "stdout"
        }
      ]
    },
    {
      "cell_type": "code",
      "metadata": {
        "id": "qrI4Ijp5ifIi",
        "colab_type": "code",
        "outputId": "e4b72b21-33a9-45e9-c695-2485aff2f1b9",
        "colab": {
          "base_uri": "https://localhost:8080/",
          "height": 34
        }
      },
      "source": [
        "import MeCab\n",
        "from google.colab import files\n",
        "tagger = MeCab.Tagger('-Ochasen')\n",
        "test_data = open(\"test.txt\", \"r\")\n",
        "lines = test_data.readlines()\n",
        "C = []\n",
        "for line in lines:\n",
        "    w = tagger.parse(line)\n",
        "    Wa = w.split(\"\\n\")\n",
        "    for i in Wa:\n",
        "        C.append(i)\n",
        "B = []\n",
        "D = []\n",
        "#sepa = lines.split(\"\\n\")\n",
        "for i in range(len(C)):\n",
        "    B.append([C[i]])\n",
        "for i in range(len(B)):\n",
        "    d = B[i][0].split(\"\\t\")\n",
        "    #print(d)\n",
        "    D.append(d)\n",
        "    \n",
        "#print(D)\n",
        "E = []\n",
        "for i in range(len(D)-2):\n",
        "    if '名詞' in D[i][3]:\n",
        "        E.append(D[i][1])\n",
        "    #elif '動詞' in D[i][3]:\n",
        "    #    E.append(D[i][1])\n",
        "print(E)\n",
        "        #for '名詞' in D\n"
      ],
      "execution_count": 0,
      "outputs": [
        {
          "output_type": "stream",
          "text": [
            "['シアワセ', 'ホシ', 'ヨル', 'アサ', 'ヨウ', 'モノ', 'タイセツ', 'ヒト', 'アメ', 'カサ', 'コト']\n"
          ],
          "name": "stdout"
        }
      ]
    },
    {
      "cell_type": "code",
      "metadata": {
        "id": "PD3d50XT6SDq",
        "colab_type": "code",
        "colab": {}
      },
      "source": [
        ""
      ],
      "execution_count": 0,
      "outputs": []
    }
  ]
}